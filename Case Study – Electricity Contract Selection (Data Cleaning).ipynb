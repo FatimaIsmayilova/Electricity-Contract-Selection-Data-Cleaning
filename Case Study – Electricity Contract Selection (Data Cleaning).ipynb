{
 "cells": [
  {
   "cell_type": "code",
   "execution_count": 42,
   "id": "8c1857b7",
   "metadata": {},
   "outputs": [
    {
     "data": {
      "text/html": [
       "<div>\n",
       "<style scoped>\n",
       "    .dataframe tbody tr th:only-of-type {\n",
       "        vertical-align: middle;\n",
       "    }\n",
       "\n",
       "    .dataframe tbody tr th {\n",
       "        vertical-align: top;\n",
       "    }\n",
       "\n",
       "    .dataframe thead th {\n",
       "        text-align: right;\n",
       "    }\n",
       "</style>\n",
       "<table border=\"1\" class=\"dataframe\">\n",
       "  <thead>\n",
       "    <tr style=\"text-align: right;\">\n",
       "      <th></th>\n",
       "      <th>data</th>\n",
       "    </tr>\n",
       "  </thead>\n",
       "  <tbody>\n",
       "    <tr>\n",
       "      <th>0</th>\n",
       "      <td>3 PM  Mon 24th-Mar-2014___0.384 kwh</td>\n",
       "    </tr>\n",
       "    <tr>\n",
       "      <th>1</th>\n",
       "      <td>5AM  15-Aug-2014___1.201  kwh</td>\n",
       "    </tr>\n",
       "    <tr>\n",
       "      <th>2</th>\n",
       "      <td>__8PM Thu 20-Mar-2014____1.523 kwh</td>\n",
       "    </tr>\n",
       "    <tr>\n",
       "      <th>3</th>\n",
       "      <td>6PM  23rd-Apr-2014___0.424  kwh</td>\n",
       "    </tr>\n",
       "    <tr>\n",
       "      <th>4</th>\n",
       "      <td>_1AM  Friday 19th-Dec-2014___0.209  kwh</td>\n",
       "    </tr>\n",
       "    <tr>\n",
       "      <th>...</th>\n",
       "      <td>...</td>\n",
       "    </tr>\n",
       "    <tr>\n",
       "      <th>8755</th>\n",
       "      <td>_1AM  Fri 07th-Nov-2014_0.084 kwh</td>\n",
       "    </tr>\n",
       "    <tr>\n",
       "      <th>8756</th>\n",
       "      <td>_6AM 20-May-2014__1.027 kwh</td>\n",
       "    </tr>\n",
       "    <tr>\n",
       "      <th>8757</th>\n",
       "      <td>__2 AM  Tuesday 8th-Apr-2014___0.052 kwh</td>\n",
       "    </tr>\n",
       "    <tr>\n",
       "      <th>8758</th>\n",
       "      <td>9 PM 27th-Jan-2014_1.428  kwh</td>\n",
       "    </tr>\n",
       "    <tr>\n",
       "      <th>8759</th>\n",
       "      <td>_12 PM 25th-Aug-2014_0.528  kwh</td>\n",
       "    </tr>\n",
       "  </tbody>\n",
       "</table>\n",
       "<p>8760 rows × 1 columns</p>\n",
       "</div>"
      ],
      "text/plain": [
       "                                           data\n",
       "0         3 PM  Mon 24th-Mar-2014___0.384 kwh  \n",
       "1                5AM  15-Aug-2014___1.201  kwh \n",
       "2          __8PM Thu 20-Mar-2014____1.523 kwh  \n",
       "3               6PM  23rd-Apr-2014___0.424  kwh\n",
       "4     _1AM  Friday 19th-Dec-2014___0.209  kwh  \n",
       "...                                         ...\n",
       "8755         _1AM  Fri 07th-Nov-2014_0.084 kwh \n",
       "8756                _6AM 20-May-2014__1.027 kwh\n",
       "8757   __2 AM  Tuesday 8th-Apr-2014___0.052 kwh\n",
       "8758            9 PM 27th-Jan-2014_1.428  kwh  \n",
       "8759          _12 PM 25th-Aug-2014_0.528  kwh  \n",
       "\n",
       "[8760 rows x 1 columns]"
      ]
     },
     "execution_count": 42,
     "metadata": {},
     "output_type": "execute_result"
    }
   ],
   "source": [
    "import pandas as pd\n",
    "import numpy as np\n",
    "\n",
    "data = pd.read_csv('dataset.csv',header = None)\n",
    "data.columns = ['data']\n",
    "data"
   ]
  },
  {
   "cell_type": "raw",
   "id": "876a4860",
   "metadata": {},
   "source": [
    "We will clear the data piece by piece"
   ]
  },
  {
   "cell_type": "code",
   "execution_count": 3,
   "id": "8e5d406d",
   "metadata": {},
   "outputs": [],
   "source": [
    "data['data'] = data['data'].apply(lambda x : str(x).replace(\"-\", \"\" ))"
   ]
  },
  {
   "cell_type": "code",
   "execution_count": 4,
   "id": "512f0835",
   "metadata": {},
   "outputs": [],
   "source": [
    "data['data'] = data['data'].apply(lambda x : str(x).replace(\"_\", \"\" ))"
   ]
  },
  {
   "cell_type": "code",
   "execution_count": 5,
   "id": "c315178a",
   "metadata": {},
   "outputs": [],
   "source": [
    "data['data'] = data['data'].apply(lambda x : str(x).replace(\" \", \"\" ))"
   ]
  },
  {
   "cell_type": "markdown",
   "id": "e2d14e95",
   "metadata": {},
   "source": [
    "# Let's go the parts"
   ]
  },
  {
   "cell_type": "raw",
   "id": "9e078dd7",
   "metadata": {},
   "source": [
    "Parts of Date : "
   ]
  },
  {
   "cell_type": "code",
   "execution_count": 6,
   "id": "fe8d2deb",
   "metadata": {},
   "outputs": [],
   "source": [
    "data['hour'] = data['data'].apply(lambda x : x[0:4] )"
   ]
  },
  {
   "cell_type": "code",
   "execution_count": 7,
   "id": "97147188",
   "metadata": {},
   "outputs": [],
   "source": [
    "def cleaning (col):\n",
    "    col = col.replace(\"MM\",\"M\")\n",
    "    if len(col) == 4 and col[3] != \"M\" :\n",
    "        col = col[:-1]  # last character is removed     \n",
    "    return col"
   ]
  },
  {
   "cell_type": "code",
   "execution_count": 8,
   "id": "e2044a69",
   "metadata": {},
   "outputs": [],
   "source": [
    "data['hour'] = data['hour'].apply(cleaning)"
   ]
  },
  {
   "cell_type": "code",
   "execution_count": 9,
   "id": "1be3bab5",
   "metadata": {},
   "outputs": [],
   "source": [
    "def data_clean(col):\n",
    "    \n",
    "    col = col[1:]\n",
    "    if col[0].isnumeric():\n",
    "        col = col[1:]\n",
    "        \n",
    "    while True :\n",
    "        index = 0\n",
    "        for i in col:\n",
    "            if i.isnumeric():\n",
    "                col = col[index:]\n",
    "                break\n",
    "            index = index +1\n",
    "        break\n",
    "    return col"
   ]
  },
  {
   "cell_type": "code",
   "execution_count": 10,
   "id": "f58cbb40",
   "metadata": {},
   "outputs": [],
   "source": [
    "data['data'] = data['data'].apply(data_clean)"
   ]
  },
  {
   "cell_type": "code",
   "execution_count": 11,
   "id": "0ffdf1e7",
   "metadata": {},
   "outputs": [],
   "source": [
    "def cleaningData (col):\n",
    "    \n",
    "    col = col.replace(\"th\",\"\")\n",
    "    col = col.replace(\"rd\",\"\")\n",
    "    col = col.replace(\"st\",\"\")\n",
    "    col = col.replace(\"nd\",\"\")\n",
    "        \n",
    "    return col"
   ]
  },
  {
   "cell_type": "code",
   "execution_count": 12,
   "id": "88cd574f",
   "metadata": {},
   "outputs": [],
   "source": [
    "data['data'] = data['data'].apply(cleaningData)"
   ]
  },
  {
   "cell_type": "markdown",
   "id": "3725d8af",
   "metadata": {},
   "source": [
    "# "
   ]
  },
  {
   "cell_type": "code",
   "execution_count": 13,
   "id": "b2af1a1c",
   "metadata": {},
   "outputs": [],
   "source": [
    "def date_column(col):\n",
    "    index = col.find(\"2014\") + 4\n",
    "    col = col[:index]\n",
    "    \n",
    "    return col"
   ]
  },
  {
   "cell_type": "code",
   "execution_count": 14,
   "id": "2624c783",
   "metadata": {},
   "outputs": [],
   "source": [
    "data['date'] = data['data'].apply(date_column)"
   ]
  },
  {
   "cell_type": "code",
   "execution_count": 15,
   "id": "1835978e",
   "metadata": {},
   "outputs": [],
   "source": [
    "from dateutil import parser\n",
    "def changing_type(col):\n",
    "    col = parser.parse(col)\n",
    "    \n",
    "    return col"
   ]
  },
  {
   "cell_type": "code",
   "execution_count": 16,
   "id": "b41703e1",
   "metadata": {},
   "outputs": [],
   "source": [
    "data['date'] = data['date'].apply(changing_type)"
   ]
  },
  {
   "cell_type": "markdown",
   "id": "564f7a0e",
   "metadata": {},
   "source": [
    "# "
   ]
  },
  {
   "cell_type": "code",
   "execution_count": 17,
   "id": "04e93f93",
   "metadata": {},
   "outputs": [],
   "source": [
    "def energy(col):\n",
    "    index = col.find(\"2014\") + 4\n",
    "    col = col[index:]\n",
    "    \n",
    "    return col "
   ]
  },
  {
   "cell_type": "code",
   "execution_count": 18,
   "id": "0c8d41b2",
   "metadata": {},
   "outputs": [],
   "source": [
    "data['energy'] = data['data'].apply(energy)"
   ]
  },
  {
   "cell_type": "code",
   "execution_count": 19,
   "id": "7ffd1dbe",
   "metadata": {},
   "outputs": [],
   "source": [
    "data.drop('data',inplace = True , axis = 1)"
   ]
  },
  {
   "cell_type": "code",
   "execution_count": 20,
   "id": "1caf6e9c",
   "metadata": {},
   "outputs": [],
   "source": [
    "def clean_energy(col):\n",
    "    col = float(col[:-3])\n",
    "    \n",
    "    return col"
   ]
  },
  {
   "cell_type": "code",
   "execution_count": 21,
   "id": "8c099eca",
   "metadata": {},
   "outputs": [],
   "source": [
    "data['energy'] = data['energy'].apply(clean_energy)"
   ]
  },
  {
   "cell_type": "markdown",
   "id": "ef4a68a4",
   "metadata": {},
   "source": [
    "# "
   ]
  },
  {
   "cell_type": "raw",
   "id": "d7ac8e1f",
   "metadata": {},
   "source": [
    "According to related tasks , days of weekend and months must be added to table"
   ]
  },
  {
   "cell_type": "code",
   "execution_count": 22,
   "id": "f4a953e9",
   "metadata": {},
   "outputs": [],
   "source": [
    "import calendar\n",
    "import datetime\n",
    "from datetime import datetime\n",
    "\n",
    "def weekdays(col):\n",
    "    col = calendar.day_name[col.weekday()]\n",
    "    \n",
    "    return col\n",
    "\n",
    "def month(col):\n",
    "    num = col.month\n",
    "    col = calendar.month_abbr[num]\n",
    "    return col\n",
    "\n",
    "def day(col):\n",
    "    col = col.day\n",
    "    return col"
   ]
  },
  {
   "cell_type": "code",
   "execution_count": 23,
   "id": "e919183d",
   "metadata": {},
   "outputs": [],
   "source": [
    "data['day'] = data['date'].apply(day)"
   ]
  },
  {
   "cell_type": "code",
   "execution_count": 24,
   "id": "38f7da9c",
   "metadata": {},
   "outputs": [],
   "source": [
    "data['weekday'] = data['date'].apply(weekdays)"
   ]
  },
  {
   "cell_type": "code",
   "execution_count": 25,
   "id": "92017daf",
   "metadata": {},
   "outputs": [],
   "source": [
    "data['month'] = data['date'].apply(month)"
   ]
  },
  {
   "cell_type": "code",
   "execution_count": 26,
   "id": "7359c63c",
   "metadata": {},
   "outputs": [
    {
     "data": {
      "text/html": [
       "<div>\n",
       "<style scoped>\n",
       "    .dataframe tbody tr th:only-of-type {\n",
       "        vertical-align: middle;\n",
       "    }\n",
       "\n",
       "    .dataframe tbody tr th {\n",
       "        vertical-align: top;\n",
       "    }\n",
       "\n",
       "    .dataframe thead th {\n",
       "        text-align: right;\n",
       "    }\n",
       "</style>\n",
       "<table border=\"1\" class=\"dataframe\">\n",
       "  <thead>\n",
       "    <tr style=\"text-align: right;\">\n",
       "      <th></th>\n",
       "      <th>hour</th>\n",
       "      <th>date</th>\n",
       "      <th>energy</th>\n",
       "      <th>day</th>\n",
       "      <th>weekday</th>\n",
       "      <th>month</th>\n",
       "    </tr>\n",
       "  </thead>\n",
       "  <tbody>\n",
       "    <tr>\n",
       "      <th>0</th>\n",
       "      <td>3PM</td>\n",
       "      <td>2014-03-24</td>\n",
       "      <td>0.384</td>\n",
       "      <td>24</td>\n",
       "      <td>Monday</td>\n",
       "      <td>Mar</td>\n",
       "    </tr>\n",
       "    <tr>\n",
       "      <th>1</th>\n",
       "      <td>5AM</td>\n",
       "      <td>2014-08-15</td>\n",
       "      <td>1.201</td>\n",
       "      <td>15</td>\n",
       "      <td>Friday</td>\n",
       "      <td>Aug</td>\n",
       "    </tr>\n",
       "    <tr>\n",
       "      <th>2</th>\n",
       "      <td>8PM</td>\n",
       "      <td>2014-03-20</td>\n",
       "      <td>1.523</td>\n",
       "      <td>20</td>\n",
       "      <td>Thursday</td>\n",
       "      <td>Mar</td>\n",
       "    </tr>\n",
       "    <tr>\n",
       "      <th>3</th>\n",
       "      <td>6PM</td>\n",
       "      <td>2014-04-23</td>\n",
       "      <td>0.424</td>\n",
       "      <td>23</td>\n",
       "      <td>Wednesday</td>\n",
       "      <td>Apr</td>\n",
       "    </tr>\n",
       "    <tr>\n",
       "      <th>4</th>\n",
       "      <td>1AM</td>\n",
       "      <td>2014-12-19</td>\n",
       "      <td>0.209</td>\n",
       "      <td>19</td>\n",
       "      <td>Friday</td>\n",
       "      <td>Dec</td>\n",
       "    </tr>\n",
       "    <tr>\n",
       "      <th>5</th>\n",
       "      <td>5AM</td>\n",
       "      <td>2014-08-19</td>\n",
       "      <td>1.228</td>\n",
       "      <td>19</td>\n",
       "      <td>Tuesday</td>\n",
       "      <td>Aug</td>\n",
       "    </tr>\n",
       "    <tr>\n",
       "      <th>6</th>\n",
       "      <td>12PM</td>\n",
       "      <td>2014-07-07</td>\n",
       "      <td>1.296</td>\n",
       "      <td>7</td>\n",
       "      <td>Monday</td>\n",
       "      <td>Jul</td>\n",
       "    </tr>\n",
       "    <tr>\n",
       "      <th>7</th>\n",
       "      <td>7AM</td>\n",
       "      <td>2014-11-25</td>\n",
       "      <td>0.437</td>\n",
       "      <td>25</td>\n",
       "      <td>Tuesday</td>\n",
       "      <td>Nov</td>\n",
       "    </tr>\n",
       "    <tr>\n",
       "      <th>8</th>\n",
       "      <td>8AM</td>\n",
       "      <td>2014-08-14</td>\n",
       "      <td>0.523</td>\n",
       "      <td>14</td>\n",
       "      <td>Thursday</td>\n",
       "      <td>Aug</td>\n",
       "    </tr>\n",
       "    <tr>\n",
       "      <th>9</th>\n",
       "      <td>4PM</td>\n",
       "      <td>2014-01-25</td>\n",
       "      <td>2.052</td>\n",
       "      <td>25</td>\n",
       "      <td>Saturday</td>\n",
       "      <td>Jan</td>\n",
       "    </tr>\n",
       "  </tbody>\n",
       "</table>\n",
       "</div>"
      ],
      "text/plain": [
       "   hour       date  energy  day    weekday month\n",
       "0   3PM 2014-03-24   0.384   24     Monday   Mar\n",
       "1   5AM 2014-08-15   1.201   15     Friday   Aug\n",
       "2   8PM 2014-03-20   1.523   20   Thursday   Mar\n",
       "3   6PM 2014-04-23   0.424   23  Wednesday   Apr\n",
       "4   1AM 2014-12-19   0.209   19     Friday   Dec\n",
       "5   5AM 2014-08-19   1.228   19    Tuesday   Aug\n",
       "6  12PM 2014-07-07   1.296    7     Monday   Jul\n",
       "7   7AM 2014-11-25   0.437   25    Tuesday   Nov\n",
       "8   8AM 2014-08-14   0.523   14   Thursday   Aug\n",
       "9   4PM 2014-01-25   2.052   25   Saturday   Jan"
      ]
     },
     "execution_count": 26,
     "metadata": {},
     "output_type": "execute_result"
    }
   ],
   "source": [
    "data.head(10) # result data"
   ]
  },
  {
   "cell_type": "markdown",
   "id": "9d0f59e6",
   "metadata": {},
   "source": [
    "# "
   ]
  },
  {
   "cell_type": "raw",
   "id": "b82dcfd7",
   "metadata": {},
   "source": [
    "Question 1\n",
    "What is your average hourly electricity usage?\n",
    "a. 0.641kWh\n",
    "b. 0.782kWh  - correct \n",
    "c. 0.884kWh\n",
    "d. 0.937kWh"
   ]
  },
  {
   "cell_type": "code",
   "execution_count": 27,
   "id": "3d91e535",
   "metadata": {},
   "outputs": [
    {
     "data": {
      "text/html": [
       "<div>\n",
       "<style scoped>\n",
       "    .dataframe tbody tr th:only-of-type {\n",
       "        vertical-align: middle;\n",
       "    }\n",
       "\n",
       "    .dataframe tbody tr th {\n",
       "        vertical-align: top;\n",
       "    }\n",
       "\n",
       "    .dataframe thead th {\n",
       "        text-align: right;\n",
       "    }\n",
       "</style>\n",
       "<table border=\"1\" class=\"dataframe\">\n",
       "  <thead>\n",
       "    <tr style=\"text-align: right;\">\n",
       "      <th></th>\n",
       "      <th>energy</th>\n",
       "      <th>day</th>\n",
       "    </tr>\n",
       "  </thead>\n",
       "  <tbody>\n",
       "    <tr>\n",
       "      <th>count</th>\n",
       "      <td>8760.000000</td>\n",
       "      <td>8760.000000</td>\n",
       "    </tr>\n",
       "    <tr>\n",
       "      <th>mean</th>\n",
       "      <td>0.781878</td>\n",
       "      <td>15.720548</td>\n",
       "    </tr>\n",
       "    <tr>\n",
       "      <th>std</th>\n",
       "      <td>0.759824</td>\n",
       "      <td>8.796749</td>\n",
       "    </tr>\n",
       "    <tr>\n",
       "      <th>min</th>\n",
       "      <td>0.048000</td>\n",
       "      <td>1.000000</td>\n",
       "    </tr>\n",
       "    <tr>\n",
       "      <th>25%</th>\n",
       "      <td>0.282000</td>\n",
       "      <td>8.000000</td>\n",
       "    </tr>\n",
       "    <tr>\n",
       "      <th>50%</th>\n",
       "      <td>0.523000</td>\n",
       "      <td>16.000000</td>\n",
       "    </tr>\n",
       "    <tr>\n",
       "      <th>75%</th>\n",
       "      <td>0.994000</td>\n",
       "      <td>23.000000</td>\n",
       "    </tr>\n",
       "    <tr>\n",
       "      <th>max</th>\n",
       "      <td>5.141000</td>\n",
       "      <td>31.000000</td>\n",
       "    </tr>\n",
       "  </tbody>\n",
       "</table>\n",
       "</div>"
      ],
      "text/plain": [
       "            energy          day\n",
       "count  8760.000000  8760.000000\n",
       "mean      0.781878    15.720548\n",
       "std       0.759824     8.796749\n",
       "min       0.048000     1.000000\n",
       "25%       0.282000     8.000000\n",
       "50%       0.523000    16.000000\n",
       "75%       0.994000    23.000000\n",
       "max       5.141000    31.000000"
      ]
     },
     "execution_count": 27,
     "metadata": {},
     "output_type": "execute_result"
    }
   ],
   "source": [
    "data.describe() # The answer mean of energy - 0.7818 or 0.782 kWh"
   ]
  },
  {
   "cell_type": "markdown",
   "id": "a4b835f6",
   "metadata": {},
   "source": [
    "# "
   ]
  },
  {
   "cell_type": "raw",
   "id": "1589429d",
   "metadata": {},
   "source": [
    "Question 2\n",
    "What is your average electricity usage per hour in February?\n",
    "a. 0.760kWh\n",
    "b. 0.784kWh\n",
    "c. 0.808kWh\n",
    "d. 0.833kWh  - correct"
   ]
  },
  {
   "cell_type": "code",
   "execution_count": 28,
   "id": "f26ac841",
   "metadata": {},
   "outputs": [
    {
     "data": {
      "text/plain": [
       "0.8329151785714302"
      ]
     },
     "execution_count": 28,
     "metadata": {},
     "output_type": "execute_result"
    }
   ],
   "source": [
    "data[data['month'] == 'Feb']['energy'].mean() # The answer mean of energy using in February - 0.833 kWh"
   ]
  },
  {
   "cell_type": "markdown",
   "id": "9c711985",
   "metadata": {},
   "source": [
    "# "
   ]
  },
  {
   "cell_type": "raw",
   "id": "0e762641",
   "metadata": {},
   "source": [
    "Question 3\n",
    "Which day of the week has the highest average usage?\n",
    "a. Sunday  - correct answer\n",
    "b. Monday\n",
    "c. Tuesday\n",
    "d. Wednesday"
   ]
  },
  {
   "cell_type": "code",
   "execution_count": 29,
   "id": "0eb4c69b",
   "metadata": {},
   "outputs": [
    {
     "data": {
      "text/html": [
       "<div>\n",
       "<style scoped>\n",
       "    .dataframe tbody tr th:only-of-type {\n",
       "        vertical-align: middle;\n",
       "    }\n",
       "\n",
       "    .dataframe tbody tr th {\n",
       "        vertical-align: top;\n",
       "    }\n",
       "\n",
       "    .dataframe thead th {\n",
       "        text-align: right;\n",
       "    }\n",
       "</style>\n",
       "<table border=\"1\" class=\"dataframe\">\n",
       "  <thead>\n",
       "    <tr style=\"text-align: right;\">\n",
       "      <th></th>\n",
       "      <th>energy</th>\n",
       "      <th>day</th>\n",
       "    </tr>\n",
       "    <tr>\n",
       "      <th>weekday</th>\n",
       "      <th></th>\n",
       "      <th></th>\n",
       "    </tr>\n",
       "  </thead>\n",
       "  <tbody>\n",
       "    <tr>\n",
       "      <th>Friday</th>\n",
       "      <td>0.753744</td>\n",
       "      <td>16.173077</td>\n",
       "    </tr>\n",
       "    <tr>\n",
       "      <th>Monday</th>\n",
       "      <td>0.725945</td>\n",
       "      <td>15.673077</td>\n",
       "    </tr>\n",
       "    <tr>\n",
       "      <th>Saturday</th>\n",
       "      <td>0.890764</td>\n",
       "      <td>15.442308</td>\n",
       "    </tr>\n",
       "    <tr>\n",
       "      <th>Sunday</th>\n",
       "      <td>0.898157</td>\n",
       "      <td>15.846154</td>\n",
       "    </tr>\n",
       "    <tr>\n",
       "      <th>Thursday</th>\n",
       "      <td>0.745458</td>\n",
       "      <td>15.769231</td>\n",
       "    </tr>\n",
       "    <tr>\n",
       "      <th>Tuesday</th>\n",
       "      <td>0.726058</td>\n",
       "      <td>15.500000</td>\n",
       "    </tr>\n",
       "    <tr>\n",
       "      <th>Wednesday</th>\n",
       "      <td>0.733943</td>\n",
       "      <td>15.641509</td>\n",
       "    </tr>\n",
       "  </tbody>\n",
       "</table>\n",
       "</div>"
      ],
      "text/plain": [
       "             energy        day\n",
       "weekday                       \n",
       "Friday     0.753744  16.173077\n",
       "Monday     0.725945  15.673077\n",
       "Saturday   0.890764  15.442308\n",
       "Sunday     0.898157  15.846154\n",
       "Thursday   0.745458  15.769231\n",
       "Tuesday    0.726058  15.500000\n",
       "Wednesday  0.733943  15.641509"
      ]
     },
     "execution_count": 29,
     "metadata": {},
     "output_type": "execute_result"
    }
   ],
   "source": [
    "weekdays = data.groupby(['weekday']).mean()\n",
    "weekdays"
   ]
  },
  {
   "cell_type": "code",
   "execution_count": 30,
   "id": "d33595a5",
   "metadata": {},
   "outputs": [
    {
     "name": "stdout",
     "output_type": "stream",
     "text": [
      "energy    Sunday\n",
      "day       Friday\n",
      "dtype: object\n"
     ]
    }
   ],
   "source": [
    "print(data.groupby(['weekday']).mean().idxmax())"
   ]
  },
  {
   "cell_type": "markdown",
   "id": "145824ef",
   "metadata": {},
   "source": [
    "# "
   ]
  },
  {
   "cell_type": "raw",
   "id": "89e9f2f9",
   "metadata": {},
   "source": [
    "Question 4\n",
    "What is the highest amount of electricity used in a continuous 4 hour period?\n",
    "a. 17.237kWh  - correct\n",
    "b. 17.327kWh\n",
    "c. 17.422kWh\n",
    "d. 17.487kWh"
   ]
  },
  {
   "cell_type": "code",
   "execution_count": 31,
   "id": "d80f20f8",
   "metadata": {},
   "outputs": [],
   "source": [
    "def hour_period(col):\n",
    "    if col == '1AM' or col == '2AM' or col == '3AM' or col == '4AM' :\n",
    "        col = '1'\n",
    "    if col == '5AM' or col == '6AM' or col == '7AM' or col == '8AM' :\n",
    "        col = '2'\n",
    "    if col == '9AM' or col == '10AM' or col == '11AM' or col == '12AM' :\n",
    "        col = '3'\n",
    "    if col == '1PM' or col == '2PM' or col == '3PM' or col == '4PM' :\n",
    "        col = '4'\n",
    "    if col == '5PM' or col == '6PM' or col == '7PM' or col == '8PM' :\n",
    "        col = '5'\n",
    "    if col == '9PM' or col == '10PM' or col == '11PM' or col == '12PM' :\n",
    "        col = '6'\n",
    "    \n",
    "    return col"
   ]
  },
  {
   "cell_type": "code",
   "execution_count": 32,
   "id": "ac18a408",
   "metadata": {},
   "outputs": [],
   "source": [
    "data['period'] = data['hour'].apply(hour_period)"
   ]
  },
  {
   "cell_type": "code",
   "execution_count": 33,
   "id": "0fc9b9dc",
   "metadata": {},
   "outputs": [
    {
     "data": {
      "text/html": [
       "<div>\n",
       "<style scoped>\n",
       "    .dataframe tbody tr th:only-of-type {\n",
       "        vertical-align: middle;\n",
       "    }\n",
       "\n",
       "    .dataframe tbody tr th {\n",
       "        vertical-align: top;\n",
       "    }\n",
       "\n",
       "    .dataframe thead th {\n",
       "        text-align: right;\n",
       "    }\n",
       "</style>\n",
       "<table border=\"1\" class=\"dataframe\">\n",
       "  <thead>\n",
       "    <tr style=\"text-align: right;\">\n",
       "      <th></th>\n",
       "      <th></th>\n",
       "      <th></th>\n",
       "      <th>energy</th>\n",
       "    </tr>\n",
       "    <tr>\n",
       "      <th>month</th>\n",
       "      <th>day</th>\n",
       "      <th>period</th>\n",
       "      <th></th>\n",
       "    </tr>\n",
       "  </thead>\n",
       "  <tbody>\n",
       "    <tr>\n",
       "      <th rowspan=\"5\" valign=\"top\">Apr</th>\n",
       "      <th rowspan=\"5\" valign=\"top\">1</th>\n",
       "      <th>1</th>\n",
       "      <td>0.233</td>\n",
       "    </tr>\n",
       "    <tr>\n",
       "      <th>2</th>\n",
       "      <td>1.055</td>\n",
       "    </tr>\n",
       "    <tr>\n",
       "      <th>3</th>\n",
       "      <td>0.410</td>\n",
       "    </tr>\n",
       "    <tr>\n",
       "      <th>4</th>\n",
       "      <td>0.525</td>\n",
       "    </tr>\n",
       "    <tr>\n",
       "      <th>5</th>\n",
       "      <td>1.839</td>\n",
       "    </tr>\n",
       "    <tr>\n",
       "      <th>...</th>\n",
       "      <th>...</th>\n",
       "      <th>...</th>\n",
       "      <td>...</td>\n",
       "    </tr>\n",
       "    <tr>\n",
       "      <th rowspan=\"5\" valign=\"top\">Sep</th>\n",
       "      <th rowspan=\"5\" valign=\"top\">30</th>\n",
       "      <th>2</th>\n",
       "      <td>2.662</td>\n",
       "    </tr>\n",
       "    <tr>\n",
       "      <th>3</th>\n",
       "      <td>0.917</td>\n",
       "    </tr>\n",
       "    <tr>\n",
       "      <th>4</th>\n",
       "      <td>1.201</td>\n",
       "    </tr>\n",
       "    <tr>\n",
       "      <th>5</th>\n",
       "      <td>4.153</td>\n",
       "    </tr>\n",
       "    <tr>\n",
       "      <th>6</th>\n",
       "      <td>1.377</td>\n",
       "    </tr>\n",
       "  </tbody>\n",
       "</table>\n",
       "<p>2190 rows × 1 columns</p>\n",
       "</div>"
      ],
      "text/plain": [
       "                  energy\n",
       "month day period        \n",
       "Apr   1   1        0.233\n",
       "          2        1.055\n",
       "          3        0.410\n",
       "          4        0.525\n",
       "          5        1.839\n",
       "...                  ...\n",
       "Sep   30  2        2.662\n",
       "          3        0.917\n",
       "          4        1.201\n",
       "          5        4.153\n",
       "          6        1.377\n",
       "\n",
       "[2190 rows x 1 columns]"
      ]
     },
     "execution_count": 33,
     "metadata": {},
     "output_type": "execute_result"
    }
   ],
   "source": [
    "days = data.groupby(['month','day','period']).sum()\n",
    "days"
   ]
  },
  {
   "cell_type": "code",
   "execution_count": 34,
   "id": "194559ed",
   "metadata": {},
   "outputs": [
    {
     "name": "stdout",
     "output_type": "stream",
     "text": [
      "energy    (Jul, 20, 5)\n",
      "dtype: object\n",
      "energy    17.237\n",
      "dtype: float64\n"
     ]
    }
   ],
   "source": [
    "print(days.idxmax()) # month , day , period\n",
    "print(days.max())"
   ]
  },
  {
   "cell_type": "markdown",
   "id": "c8f07ae2",
   "metadata": {},
   "source": [
    "# "
   ]
  },
  {
   "cell_type": "raw",
   "id": "832bcf09",
   "metadata": {},
   "source": [
    "Question 5\n",
    "Based on your historic electricity usage, what would your annual cost of electricity be \n",
    "under the \"Monthly Flex\" contract?\n",
    "a. $1350.73\n",
    "b. $1421.82  -correct\n",
    "c. $1450.26\n",
    "d. $1493.77"
   ]
  },
  {
   "cell_type": "code",
   "execution_count": 35,
   "id": "5d2b5f50",
   "metadata": {},
   "outputs": [
    {
     "data": {
      "text/html": [
       "<div>\n",
       "<style scoped>\n",
       "    .dataframe tbody tr th:only-of-type {\n",
       "        vertical-align: middle;\n",
       "    }\n",
       "\n",
       "    .dataframe tbody tr th {\n",
       "        vertical-align: top;\n",
       "    }\n",
       "\n",
       "    .dataframe thead th {\n",
       "        text-align: right;\n",
       "    }\n",
       "</style>\n",
       "<table border=\"1\" class=\"dataframe\">\n",
       "  <thead>\n",
       "    <tr style=\"text-align: right;\">\n",
       "      <th></th>\n",
       "      <th>month</th>\n",
       "      <th>energy</th>\n",
       "    </tr>\n",
       "  </thead>\n",
       "  <tbody>\n",
       "    <tr>\n",
       "      <th>0</th>\n",
       "      <td>Apr</td>\n",
       "      <td>151.242</td>\n",
       "    </tr>\n",
       "    <tr>\n",
       "      <th>1</th>\n",
       "      <td>Aug</td>\n",
       "      <td>633.390</td>\n",
       "    </tr>\n",
       "    <tr>\n",
       "      <th>2</th>\n",
       "      <td>Dec</td>\n",
       "      <td>568.739</td>\n",
       "    </tr>\n",
       "    <tr>\n",
       "      <th>3</th>\n",
       "      <td>Feb</td>\n",
       "      <td>559.719</td>\n",
       "    </tr>\n",
       "    <tr>\n",
       "      <th>4</th>\n",
       "      <td>Jan</td>\n",
       "      <td>1042.660</td>\n",
       "    </tr>\n",
       "    <tr>\n",
       "      <th>5</th>\n",
       "      <td>Jul</td>\n",
       "      <td>1255.524</td>\n",
       "    </tr>\n",
       "    <tr>\n",
       "      <th>6</th>\n",
       "      <td>Jun</td>\n",
       "      <td>904.247</td>\n",
       "    </tr>\n",
       "    <tr>\n",
       "      <th>7</th>\n",
       "      <td>Mar</td>\n",
       "      <td>420.748</td>\n",
       "    </tr>\n",
       "    <tr>\n",
       "      <th>8</th>\n",
       "      <td>May</td>\n",
       "      <td>417.157</td>\n",
       "    </tr>\n",
       "    <tr>\n",
       "      <th>9</th>\n",
       "      <td>Nov</td>\n",
       "      <td>232.420</td>\n",
       "    </tr>\n",
       "    <tr>\n",
       "      <th>10</th>\n",
       "      <td>Oct</td>\n",
       "      <td>313.719</td>\n",
       "    </tr>\n",
       "    <tr>\n",
       "      <th>11</th>\n",
       "      <td>Sep</td>\n",
       "      <td>349.686</td>\n",
       "    </tr>\n",
       "  </tbody>\n",
       "</table>\n",
       "</div>"
      ],
      "text/plain": [
       "   month    energy\n",
       "0    Apr   151.242\n",
       "1    Aug   633.390\n",
       "2    Dec   568.739\n",
       "3    Feb   559.719\n",
       "4    Jan  1042.660\n",
       "5    Jul  1255.524\n",
       "6    Jun   904.247\n",
       "7    Mar   420.748\n",
       "8    May   417.157\n",
       "9    Nov   232.420\n",
       "10   Oct   313.719\n",
       "11   Sep   349.686"
      ]
     },
     "execution_count": 35,
     "metadata": {},
     "output_type": "execute_result"
    }
   ],
   "source": [
    "month_usage = pd.DataFrame(data.groupby('month')['energy'].sum())\n",
    "month_usage = month_usage.reset_index()\n",
    "month_usage"
   ]
  },
  {
   "cell_type": "code",
   "execution_count": 36,
   "id": "58041ed6",
   "metadata": {},
   "outputs": [],
   "source": [
    "usage = month_usage['energy'].values"
   ]
  },
  {
   "cell_type": "code",
   "execution_count": 37,
   "id": "561d29ec",
   "metadata": {},
   "outputs": [],
   "source": [
    "price = np.array([0.18 , 0.19 , 0.19 , 0.19 , 0.20 , 0.24 , 0.27 , 0.17 , 0.22 , 0.14 , 0.15 , 0.18 ])"
   ]
  },
  {
   "cell_type": "code",
   "execution_count": 38,
   "id": "493d73b4",
   "metadata": {},
   "outputs": [
    {
     "data": {
      "text/plain": [
       "1421.82096"
      ]
     },
     "execution_count": 38,
     "metadata": {},
     "output_type": "execute_result"
    }
   ],
   "source": [
    "cost = np.multiply(usage,price)\n",
    "sum(cost)"
   ]
  },
  {
   "cell_type": "markdown",
   "id": "cc07381e",
   "metadata": {},
   "source": [
    "# "
   ]
  },
  {
   "cell_type": "raw",
   "id": "cd4f3fed",
   "metadata": {},
   "source": [
    "Question 6\n",
    "Based on your historic electricity usage, which of the three contracts would produce \n",
    "the lowest\n",
    "annual cost?\n",
    "a. The No Flex plan       -> 1438.3427\n",
    "b. The Monthly Flex plan  -> 1421.82096 \n",
    "c. The Hourly Flex plan   -> 1369.36063  # correct answer\n",
    "d. Impossible to Determine"
   ]
  },
  {
   "cell_type": "code",
   "execution_count": 39,
   "id": "4ab402be",
   "metadata": {},
   "outputs": [],
   "source": [
    "# The hourly plan\n",
    "def cost_hour (col , energy):\n",
    "    if col == '12AM' or col == '1AM' or col == '2AM' or col == '3AM' or col == '10PM' or col == '11PM' :\n",
    "        energy = energy * 0.10\n",
    "    if col == '4AM' or col == '4PM' :\n",
    "        energy = energy * 0.15\n",
    "    if col == '5AM' or col == '9AM' or col == '10AM' or col == '1PM' :\n",
    "        energy = energy * 0.20\n",
    "    if col == '6AM' or col == '7AM' or col == '2PM' or col == '6PM' or col == '7PM' :\n",
    "        energy = energy * 0.24\n",
    "    if col == '8AM' or col == '11AM' or col == '12PM':\n",
    "        energy = energy * 0.26\n",
    "    if col == '3PM' :\n",
    "        energy = energy * 0.18\n",
    "    if col == '5PM':\n",
    "        energy = energy * 0.30\n",
    "    if col == '8PM' :\n",
    "        energy = energy * 0.12\n",
    "    if col == '9PM' :\n",
    "        energy = energy * 0.11\n",
    "\n",
    "    return energy  "
   ]
  },
  {
   "cell_type": "code",
   "execution_count": 40,
   "id": "e5b8c13b",
   "metadata": {},
   "outputs": [
    {
     "data": {
      "text/plain": [
       "1369.3606300000001"
      ]
     },
     "execution_count": 40,
     "metadata": {},
     "output_type": "execute_result"
    }
   ],
   "source": [
    "data['hour_cost'] = np.vectorize(cost_hour)(data['hour'], data['energy'])\n",
    "\n",
    "Hourly_Flex = data['hour_cost'].sum()\n",
    "Hourly_Flex"
   ]
  },
  {
   "cell_type": "code",
   "execution_count": 41,
   "id": "488a8b39",
   "metadata": {},
   "outputs": [
    {
     "data": {
      "text/plain": [
       "1438.34271"
      ]
     },
     "execution_count": 41,
     "metadata": {},
     "output_type": "execute_result"
    }
   ],
   "source": [
    "# The No Flex plan\n",
    "NoFlex = data['energy'].sum() * 0.21\n",
    "NoFlex"
   ]
  }
 ],
 "metadata": {
  "kernelspec": {
   "display_name": "Python 3 (ipykernel)",
   "language": "python",
   "name": "python3"
  },
  "language_info": {
   "codemirror_mode": {
    "name": "ipython",
    "version": 3
   },
   "file_extension": ".py",
   "mimetype": "text/x-python",
   "name": "python",
   "nbconvert_exporter": "python",
   "pygments_lexer": "ipython3",
   "version": "3.9.12"
  }
 },
 "nbformat": 4,
 "nbformat_minor": 5
}
